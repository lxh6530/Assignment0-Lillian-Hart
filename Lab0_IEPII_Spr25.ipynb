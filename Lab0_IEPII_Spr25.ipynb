{
  "nbformat": 4,
  "nbformat_minor": 0,
  "metadata": {
    "colab": {
      "provenance": [],
      "toc_visible": true,
      "include_colab_link": true
    },
    "kernelspec": {
      "name": "python3",
      "display_name": "Python 3"
    },
    "language_info": {
      "name": "python"
    }
  },
  "cells": [
    {
      "cell_type": "markdown",
      "metadata": {
        "id": "view-in-github",
        "colab_type": "text"
      },
      "source": [
        "<a href=\"https://colab.research.google.com/github/lxh6530/Assignment0-Lillian-Hart/blob/main/Lab0_IEPII_Spr25.ipynb\" target=\"_parent\"><img src=\"https://colab.research.google.com/assets/colab-badge.svg\" alt=\"Open In Colab\"/></a>"
      ]
    },
    {
      "cell_type": "markdown",
      "source": [
        "# Lab 0 Overview\n",
        "This lab is a coding exercise in Python, intended to introduce you to functions (Sec. 1) and classes (Sec. 2) in order to write code that computes the total electric field produced by a collection of point charges (Sec 3). The introduction to functions and classes here is by no means exhaustive and you can refer to many other resources on the internet for further details related to these concepts."
      ],
      "metadata": {
        "id": "lrV3SqU8eaUO"
      }
    },
    {
      "cell_type": "markdown",
      "source": [
        "# Setup"
      ],
      "metadata": {
        "id": "g2rtb_QVuCya"
      }
    },
    {
      "cell_type": "code",
      "execution_count": null,
      "metadata": {
        "id": "B71SeMr1qAdc"
      },
      "outputs": [],
      "source": [
        "import numpy as np\n",
        "import matplotlib.pyplot as plt"
      ]
    },
    {
      "cell_type": "markdown",
      "source": [
        "# 1. Functions in Python\n",
        "\n",
        "The internet has many excellent Python coding tutorials for beginners.\n",
        "[Here](https://www.w3schools.com/python/python_functions.asp) and [here](https://www.programiz.com/python-programming/function) are a couple useful examples of tutorials that you might want to look at or work through if you aren't familiar with functions in Python. You can also look for different tutorials by Googling and/or ask your TA for help."
      ],
      "metadata": {
        "id": "WsIU17UFqE3a"
      }
    },
    {
      "cell_type": "markdown",
      "source": [
        "## Exercise 1.1: Our first function definition\n",
        "Here is a very simple function that doesn't do much. Notice the syntax:\n",
        "\n",
        "`def` means you are defining a function\\\n",
        "`myFunction` is the name of the function\\\n",
        "`arg` is the argument (input) to the function\n"
      ],
      "metadata": {
        "id": "u-8dJcIk18yF"
      }
    },
    {
      "cell_type": "code",
      "source": [
        "def myFunction(arg):\n",
        "  print('This function prints the argument: ')\n",
        "  print(arg)"
      ],
      "metadata": {
        "id": "zRVIH7KdqGaO"
      },
      "execution_count": 1,
      "outputs": []
    },
    {
      "cell_type": "markdown",
      "source": [
        "Since myFunction is defined in the cell above, you can now \"call\" the function. Try this now: put different values into the argument of myFunction and run the cell (shift + return) to see what it does."
      ],
      "metadata": {
        "id": "PeSCaAYR2ztu"
      }
    },
    {
      "cell_type": "code",
      "source": [
        "### BEGIN YOUR CODE\n",
        "###\n",
        "### END YOUR CODE"
      ],
      "metadata": {
        "id": "YvRph_Qq2TC1"
      },
      "execution_count": null,
      "outputs": []
    },
    {
      "cell_type": "markdown",
      "source": [
        "## Exercise 1.2: To return or not to return\n",
        "Functions in Python are not *required* to return anything; nevertheless, you will usually want your functions to return something when they are called. We will see why in this exercise.\n",
        "\n",
        "TODO: Fill in the content of the functions below."
      ],
      "metadata": {
        "id": "cZQ0o0-63M5u"
      }
    },
    {
      "cell_type": "code",
      "source": [
        "def sphereVolume_v1(radius):\n",
        "  '''This function takes the radius of a sphere as its argument and doesn't return anything.'''\n",
        "\n",
        "  vol = None ### TODO: Replace \"None\" with equation for volume of a sphere\n",
        "\n",
        "\n",
        "def sphereVolume_v2(radius):\n",
        "  '''This function takes the radius of a sphere as its argument and returns the volume of the sphere.'''\n",
        "\n",
        "  vol = None ### TODO: Replace \"None\" with equation for volume of a sphere\n",
        "  return vol"
      ],
      "metadata": {
        "id": "IEx_02Lo3U7h"
      },
      "execution_count": null,
      "outputs": []
    },
    {
      "cell_type": "markdown",
      "source": [
        "The second function, `sphereVolume_v2()`, returns the volume of the sphere when it is called, so we can get retrieve that number and use it later. Compare the behavior of `sphereVolume_v1()` and `sphereVolume_v2()` below. Note that function `sphereVolume_v1()` is not very useful, because it computes vol but we can't actually access it."
      ],
      "metadata": {
        "id": "Lglp3EL_4gzg"
      }
    },
    {
      "cell_type": "code",
      "source": [
        "volume1 = sphereVolume_v1(1)\n",
        "volume2 = sphereVolume_v2(1)\n",
        "print('Volume1: ', volume1)\n",
        "print('Volume2: ', volume2)\n",
        "### NOTE: Make sure you fill in the function definitions above before running this cell."
      ],
      "metadata": {
        "id": "hVI73KBE4fIj"
      },
      "execution_count": null,
      "outputs": []
    },
    {
      "cell_type": "markdown",
      "source": [
        "The function `sphereVolume_v2()` does not necessarily have to return a float. It can also return, e.g., an array:"
      ],
      "metadata": {
        "id": "-iF7FGzh5ynj"
      }
    },
    {
      "cell_type": "code",
      "source": [
        "### TODO: Run this cell using your defintion of sphereVolume_v2() above and check that it produces a sensible plot.\n",
        "radii = np.linspace(0, 1, 100)\n",
        "volumes = sphereVolume_v2(radii)\n",
        "print('Type of volumes: ', type(volumes))\n",
        "\n",
        "plt.plot(radii, volumes)\n",
        "plt.xlabel('Radius of sphere')\n",
        "plt.ylabel('Volume of sphere')"
      ],
      "metadata": {
        "id": "eW9YaGbA38GS"
      },
      "execution_count": null,
      "outputs": []
    },
    {
      "cell_type": "markdown",
      "source": [
        "## Exercise 1.3: Scope of variables in Python"
      ],
      "metadata": {
        "id": "doAom4PFx_19"
      }
    },
    {
      "cell_type": "markdown",
      "source": [
        "We could also write\n",
        "\n",
        "```\n",
        "vol = sphereVolume_v2(1)\n",
        "```\n",
        "\n",
        "Looking back at the definition of `sphereVolume_v2`, you will see that the variable `vol` is also used there. Despite the fact that we have used the variable `vol` twice, there is no clash between the two definitions.\n",
        "\n",
        "This brings us to the idea of global vs local \"scope\" in Python. Variables defined inside functions are not defined outside of them."
      ],
      "metadata": {
        "id": "HWU96ApC-7GL"
      }
    },
    {
      "cell_type": "code",
      "source": [
        "def demo():\n",
        "  '''This function defines and prints myVar.'''\n",
        "  myVar = 5\n",
        "  print(myVar)\n",
        "\n",
        "print('First, we run the function. myVar is printed: ')\n",
        "demo()\n",
        "\n",
        "print('Now, we try to print myVar outside the function demo() and generate a NameError: ')\n",
        "print(myVar)"
      ],
      "metadata": {
        "id": "LZQOq2YMAMil"
      },
      "execution_count": null,
      "outputs": []
    },
    {
      "cell_type": "markdown",
      "source": [
        "TODO: Explain why there is an error when we try to print myVar.\n",
        "---\n",
        "Your answer here:\n",
        "\n",
        "\n",
        "TODO: Explain what will be printed by the following code snippet:\n",
        "```\n",
        "myVar = 6\n",
        "print(myVar)\n",
        "demo()\n",
        "```\n",
        "---\n",
        "Your answer here:\n",
        "\n"
      ],
      "metadata": {
        "id": "oZZS_UiRBDhM"
      }
    },
    {
      "cell_type": "markdown",
      "source": [
        "## Exercise 1.4: Area of an annulus\n",
        "TODO: Define a function that computes the area of an annulus, with inner radius $r_1$ and outer radius $r_2$."
      ],
      "metadata": {
        "id": "3MAI06DZ6t9a"
      }
    },
    {
      "cell_type": "code",
      "source": [
        "### TODO: YOUR CODE HERE"
      ],
      "metadata": {
        "id": "mp-ES8ij7LKs"
      },
      "execution_count": null,
      "outputs": []
    },
    {
      "cell_type": "markdown",
      "source": [
        "TODO:\n",
        "\n",
        "Curve 1: Fix $r_1 = 1.$ Compute and plot the area of the annulus for $$1\\leq r_2 \\leq 10,$$ with $r_2$ on the horizontal axis and the area on the vertical axis.\n",
        "\n",
        "Curve 2: Fix $r_2 = 2$. Compute and plot the area of the annulus for $$0\\leq r_1 \\leq 3,$$ with $r_1$ on the horizontal axis and the area on the vertical axis.\n",
        "\n",
        "Using `fig, ax = plt.subplots(1,2)`, plot curve 1 and curve 2 on side-by-side plots. Use your function defined above. Label all axes."
      ],
      "metadata": {
        "id": "8IN4_dON7O0R"
      }
    },
    {
      "cell_type": "code",
      "source": [
        "### TODO: YOUR CODE HERE"
      ],
      "metadata": {
        "id": "W8e11Dsd7vk5"
      },
      "execution_count": null,
      "outputs": []
    },
    {
      "cell_type": "markdown",
      "source": [
        "# 2. Classes in Python\n",
        "Python is an object-oriented programming language, meaning that you can define objects called classes. We have actually already encountered a few of Python's built-in classes in Assignment 1; these built-in classes include integers, strings, lists and dictionaries.\n",
        "\n",
        "Let's begin by defining our own simple class called `IEP_student`."
      ],
      "metadata": {
        "id": "h2gnDP_SqHET"
      }
    },
    {
      "cell_type": "markdown",
      "source": [
        "## Exercise 2.1 Our first class definition\n",
        "\n",
        "This code snippet defines a class named `IEP_student`, with attributes \"name\", \"major\" and \"year\":\n",
        "```\n",
        "class IEP_student:\n",
        "  def __init__(self, name, major, year):\n",
        "    self.name = name\n",
        "    self.major = major\n",
        "    self.year = year\n",
        "```\n",
        "\n",
        "After you define the class, you can create an instance of the class as follows:\n",
        "```\n",
        "s1 = IEP_student('Khush', 'physics', 'sophomore')\n",
        "```\n",
        "This line of code creates an instance of the class `IEP_student` called `s1`, whose properties are `name = Khush, major = Physics, year = Sophomore`. The ``__init__`` method is called automatically whenever we create an instance, such as `s1`, of the `IEP_student` class.\n",
        "\n",
        "So the class is a blueprint that is used to keep track of general, abstract properties that all students in IEP II possess. Each instance of the class is a specific student."
      ],
      "metadata": {
        "id": "bj-wpptSDBpX"
      }
    },
    {
      "cell_type": "markdown",
      "source": [
        "TODO: Since you are an IEP student, create an instance of the class that represents yourself, and two more instances that represent classmates in your lab section."
      ],
      "metadata": {
        "id": "5y1sFq3KDPME"
      }
    },
    {
      "cell_type": "code",
      "source": [
        "### TODO: YOUR CODE HERE"
      ],
      "metadata": {
        "id": "kCqwOWYPqIIu"
      },
      "execution_count": null,
      "outputs": []
    },
    {
      "cell_type": "markdown",
      "source": [
        "TODO: There might be other properties of IEP II students that would be useful to keep track of. Add two more attributes to `__init__ ` in the IEP_student class, and re-initialize yourself and your two classmates with these extra properties. For example, you could add the attributes `hobbies` and `lab section`:\n",
        "```\n",
        "class IEP_student:\n",
        "  def __init__(self, name, major, year, hobbies, lab_section):\n",
        "    self.name = name\n",
        "    self.major = major\n",
        "    self.year = year\n",
        "    self.hobbies = hobbies\n",
        "    self.lab_section = lab_section\n",
        "```\n",
        "(Now that I have used `hobbies` and `lab_section` as examples, think of two other attributes to add.)"
      ],
      "metadata": {
        "id": "GoReeQvMJ0-_"
      }
    },
    {
      "cell_type": "code",
      "source": [
        "### TODO: YOUR CODE HERE"
      ],
      "metadata": {
        "id": "XFzQfrpWJ1_y"
      },
      "execution_count": null,
      "outputs": []
    },
    {
      "cell_type": "markdown",
      "source": [
        "We will now add a method to our IEP_student class. A method is an attribute of the class that is a *function*.\n",
        "\n",
        "```\n",
        "class IEP_student:\n",
        "  def __init__(self, name, major, year):\n",
        "    self.name = name\n",
        "    self.major = major\n",
        "    self.year = year\n",
        "\n",
        "  def introduce(self):\n",
        "    print(\"Hello, my name is {}. I am a {} major at NYU and I am a {}.\"format(self.name, self.major, self.year))\n",
        "```\n",
        "After adding the method `introduce` to our class, we can now create an instance and call the method:\n",
        "```\n",
        "s1 = IEP_student('Khush', 'physics', 'sophomore')\n",
        "s1.introduce()\n",
        "```\n",
        "\n"
      ],
      "metadata": {
        "id": "EzTf7EptGu2k"
      }
    },
    {
      "cell_type": "markdown",
      "source": [
        "TODO: What happens if you call s1.introduce()?\n",
        "\n",
        "---\n",
        "\n",
        "Your answer here:"
      ],
      "metadata": {
        "id": "TNCLXvkaIcaM"
      }
    },
    {
      "cell_type": "markdown",
      "source": [
        "TODO: Earlier, you created IEP_student instances of yourself and two classmates. Now call the method `introduce()` to introduce all the students."
      ],
      "metadata": {
        "id": "1-Td5xClmzo8"
      }
    },
    {
      "cell_type": "code",
      "source": [
        "### TODO: YOUR CODE HERE"
      ],
      "metadata": {
        "id": "Cb1GIzSum_Gx"
      },
      "execution_count": null,
      "outputs": []
    },
    {
      "cell_type": "markdown",
      "source": [
        "## Exercise 2.2 `list` as a Python class\n",
        "You just created your own class called `IEP_student` and defined some useful attributes. Let's now connect these ideas to Python lists, which are a built-in class in Python."
      ],
      "metadata": {
        "id": "h-wUi3Zsii01"
      }
    },
    {
      "cell_type": "code",
      "source": [
        "myList = list() # create an instance of the class list() called myList"
      ],
      "metadata": {
        "id": "CRzh6m3WodB8"
      },
      "execution_count": null,
      "outputs": []
    },
    {
      "cell_type": "markdown",
      "source": [
        "TODO: Append the string `'test'` to `myList`."
      ],
      "metadata": {
        "id": "3v9cU6yYpqg4"
      }
    },
    {
      "cell_type": "code",
      "source": [
        "### TODO: YOUR CODE HERE"
      ],
      "metadata": {
        "id": "_w5SuucFpy2I"
      },
      "execution_count": null,
      "outputs": []
    },
    {
      "cell_type": "markdown",
      "source": [
        "From IEP I and Assignment 1 you already understand what your code above does, but now let's think about it from this new perspective: `list` in Python is a built-in class. `myList` is a particular instance of the class `list`. The class `list` has a method `append(arg)`, which appends `arg` to the end of the list.  \n",
        "\n",
        "This is completely analogous to what we did when we wrote our own new class in Exercise 2.1: `IEP_student` is a class we defined. `s1` is a particular instance of the class `IEP_student`. The class `IEP_student` has a method `introduce()`, which prints some information about the student's attributes.\n",
        "\n",
        "TODO: Explain what is printed by the code snippet below, and what it means.\n",
        "```\n",
        "print(type(myList))\n",
        "print(type(s1))\n",
        "```\n",
        "---\n",
        "Your answer here:\n",
        "\n"
      ],
      "metadata": {
        "id": "bioFDYWUp08g"
      }
    },
    {
      "cell_type": "markdown",
      "source": [
        "The `dir()` function is a useful built-in Python function that lists all the attributes and methods of an object.\n",
        "\n",
        "TODO: use `dir()` on `list` and `IEP_student`. Report what is returned. In particular, `dir(IEP_student)` will return some attributes that we did not define explicitly. What is going on?\n",
        "\n",
        "---\n",
        "Your answer here:\n"
      ],
      "metadata": {
        "id": "ZMmgUZoDrmgu"
      }
    },
    {
      "cell_type": "markdown",
      "source": [
        "# 3. Compute electric field of point particle(s)\n",
        "Now we come to the physics/E&M content of this coding lab Lab 0, in which we will write code to compute the electric field created by an arbitrary distribution of point charges."
      ],
      "metadata": {
        "id": "QJ-35jYFqI4L"
      }
    },
    {
      "cell_type": "markdown",
      "source": [
        "## Exercise 3.1 Electric field of a point charge\n",
        "TODO: Make a vector plot of the electric field in the $xy$ plane of a point charge with charge $q$ located at the origin, $r = [0,0,0]$. In this lab, we will denote the elementary charge as $q$, and we will use this as the fundamental unit of charge. Hence, you can let the charge `q = 1` in your code. For an object with charge $Q = 5q$, you can define `Q=5`. And so on.\n",
        "\n",
        "You can also set $k \\equiv \\frac{1}{4\\pi\\epsilon_0} = 1$ for all of your work in this lab.\n",
        "\n",
        "For your plot, let $x$ and $y$ range from (-10,10).\n",
        "\n",
        "Hint: use the matplotlib function `quiver`. Your result should look something like the graph here:\n",
        "\n",
        "\n",
        "<img src=\"https://drive.google.com/uc?id=1E-vFnO6YePVbvxXAAbjTDFFqIuDOxemS\" width=\"400\">\n",
        "\n"
      ],
      "metadata": {
        "id": "jnGqlw9wtNly"
      }
    },
    {
      "cell_type": "code",
      "source": [
        "xPts = np.linspace(-10,10,21)\n",
        "yPts = np.linspace(-10,10,21)\n",
        "x, y = np.meshgrid(xPts, yPts) # define a grid\n",
        "\n",
        "k = 1 # by definition in this lab\n",
        "charge = 1 # define charges in units of q\n",
        "\n",
        "r = ### TODO: YOUR CODE HERE\n",
        "fieldMagnitude = ### TODO: YOUR CODE HERE. Compute the magnitude of the field.\n",
        "fieldX = ### TODO: YOUR CODE HERE. Compute the x-component of the field.\n",
        "fieldY = ### TODO: YOUR CODE HERE. Compute the y-component of the field.\n",
        "fieldZ = ### TODO: YOUR CODE HERE. Compute the z-component of the field.\n",
        "\n",
        "plt.quiver(x, y, fieldX, fieldY)\n",
        "plt.xlabel('x')\n",
        "plt.ylabel('y')\n",
        "plt.title('Electric field in the XY plane produced by point charge q located at the origin')"
      ],
      "metadata": {
        "id": "ZXPNxWS9umDE"
      },
      "execution_count": null,
      "outputs": []
    },
    {
      "cell_type": "markdown",
      "source": [
        "## Exercise 3.2: Electric dipole field (two point charges)\n",
        "\n",
        "TODO: Now make a vector plot of the ***total*** electric field in the $xy$ plane produced by (i) a point charge with charge $q$ located at $r = [-4,0, 0]$ and (ii) a point charge with charge $-q$ located at $r = [4,0, 0]$.\n",
        "\n",
        "For your plot, let $x$ and $y$ range from (-10,10).\n",
        "\n",
        "Hints:\n",
        "1. Use the matplotlib function `quiver`. Your result should look something like the graph below.\n",
        "2. You may want to compute and plot the fields produced by (i) and (ii) separately and then add them.\n",
        "\n",
        "<img src=\"https://drive.google.com/uc?id=1MNhSno7xNr3vBZQgDv2D2wKO20r286K-\" width=\"400\">\n"
      ],
      "metadata": {
        "id": "5uB-941R0eM0"
      }
    },
    {
      "cell_type": "code",
      "source": [
        "### TODO: YOUR CODE HERE"
      ],
      "metadata": {
        "id": "rKqOIz_y2l8T"
      },
      "execution_count": null,
      "outputs": []
    },
    {
      "cell_type": "markdown",
      "source": [
        "## Exercise 3.3: Write the class `pointCharge`\n",
        "Now that you have thought about how to calculate and plot the fields produced by a single point charge and two point charges (the simplest two cases), we will think about how to write code to calculate the field produced by an arbitrary distribution of point charges.\n",
        "\n",
        "In the process of adding together the field produced by more and more charges, you would keep doing the same procedure repeatedly. In this kind of situation, it seems clear that we should write a class to make such repetition easier, faster, and less prone to human error.\n",
        "\n",
        "\n",
        "Therefore, we are going to write a class to represent point charges, with methods that help us to compute and plot the field produced by each charge.\n",
        "\n",
        "```\n",
        "class pointCharge:\n",
        "  def __init__(self, prop1, prop2, ...):\n",
        "    self.prop1 = prop1\n",
        "    self.prop2 = prop2\n",
        "    ...\n",
        "\n",
        "  def computeField(self, args):\n",
        "    pass\n",
        "\n",
        "  def plotField(self, args):\n",
        "    pass\n",
        "```\n",
        "\n"
      ],
      "metadata": {
        "id": "Rrl9A6E_DoVt"
      }
    },
    {
      "cell_type": "markdown",
      "source": [
        "### Exercise 3.3i\n",
        "TODO: What properties of the point charge should we define when initializing a point charge object (i.e., what would be useful prop1, prop2, ... values)?\n",
        "\n",
        "Hint: what variables did you have to define (repeatedly) when you worked on Exercises 3.1 and 3.2?\n",
        "\n",
        "---\n",
        "Your answer here:"
      ],
      "metadata": {
        "id": "lcZ4_VyX5aze"
      }
    },
    {
      "cell_type": "markdown",
      "source": [
        "### Exercise 3.3ii\n",
        "TODO: Write the `__init__` method for your class based on your answer above. Then, add methods `computefield()` and `plotField()` to your class that compute and plot the electric field produced by the point charge. You might want to check that your methods are working correctly by comparing the results of your `plotField()` function to your answers in Ex. 3.1 and 3.2."
      ],
      "metadata": {
        "id": "erj-8Li-5Dfn"
      }
    },
    {
      "cell_type": "code",
      "source": [
        "def pointCharge():\n",
        "  ### TODO: YOUR CODE HERE\n",
        "  def __init__(self, your_args):\n",
        "    pass\n",
        "\n",
        "  ### TODO: YOUR CODE HERE\n",
        "  def computeField(self, your_args):\n",
        "    pass\n",
        "\n",
        "  ### TODO: YOUR CODE HERE\n",
        "  def plotField(self, your_args):\n",
        "    pass\n",
        "\n",
        "  ### Note: feel free to add any helpful extra methods"
      ],
      "metadata": {
        "id": "uuNph5SA5HMm"
      },
      "execution_count": null,
      "outputs": []
    },
    {
      "cell_type": "markdown",
      "source": [
        "### Exercise 3.3iii\n",
        "TODO: Write a function to compute the total field of a list of point charge objects."
      ],
      "metadata": {
        "id": "nZdGRgVu5ylG"
      }
    },
    {
      "cell_type": "code",
      "source": [
        "### TODO: YOUR CODE HERE\n",
        "def computeTotalField(your_args):\n",
        "  pass"
      ],
      "metadata": {
        "id": "zJ2Xmyp56BTj"
      },
      "execution_count": null,
      "outputs": []
    },
    {
      "cell_type": "markdown",
      "source": [
        "## Exercise 3.4 Use your code\n",
        "Now that you've built a nice class, you can use it to make some fun plots with relatively little effort."
      ],
      "metadata": {
        "id": "cQolDMAN6fRT"
      }
    },
    {
      "cell_type": "markdown",
      "source": [
        "### Exercise 3.4i Electric quadrupole field\n",
        "You already learned that an electric dipole consists of two charges $\\pm Q$ separated by a distance $d$. An electric quadrupole consists of four charges placed at the corners of a square:\n",
        "1. $+q$ at [1, 1, 0]\n",
        "2. $+q$ at [-1,-1,0]\n",
        "3. $-q$ at [1,-1,0]\n",
        "4. $-q$ at [-1,1,0]\n",
        "\n",
        "\n",
        "TODO: Plot the electric quadrupole field with $q = 1$."
      ],
      "metadata": {
        "id": "IVx1nJve6tze"
      }
    },
    {
      "cell_type": "code",
      "source": [
        "### TODO: YOUR CODE HERE"
      ],
      "metadata": {
        "id": "8jqCVPnm7lB6"
      },
      "execution_count": null,
      "outputs": []
    },
    {
      "cell_type": "code",
      "source": [
        "### TODO: YOUR CODE HERE"
      ],
      "metadata": {
        "id": "DQ5lkCCx86SI"
      },
      "execution_count": null,
      "outputs": []
    },
    {
      "cell_type": "markdown",
      "source": [
        "### Exercise 3.4ii: Field between two parallel lines of charge $\\pm Q$ spaced by distance $d$ (gain some important intuition for Coulomb balance lab!)\n",
        "\n",
        "TODO:\n",
        "\n",
        "Place 101 charges, each with charge $q$, equally spaced along a line with endpoints [-5, .25, 0] and [5, .25, 0].\n",
        "\n",
        "Place 101 charges, each with charge $-q$, equally spaced along a line with endpoints [-5, -.25, 0] and [5, -.25, 0].\n",
        "\n",
        "Plot the electric field in the $xy-$plane. For your plot, let $x$ and $y$ range from (-10,10)."
      ],
      "metadata": {
        "id": "9NvdrpCoE-eX"
      }
    },
    {
      "cell_type": "code",
      "source": [
        "### TODO: YOUR CODE HERE"
      ],
      "metadata": {
        "id": "5-NotNQXDJJC"
      },
      "execution_count": null,
      "outputs": []
    },
    {
      "cell_type": "markdown",
      "source": [
        "TODO: Examine and describe the field magnitude and direction between the two lines, above and below the two lines, and to the left and right of the two lines.\n",
        "\n",
        "---\n",
        "\n",
        "Your answer here:"
      ],
      "metadata": {
        "id": "AIsZR1PNGrjb"
      }
    }
  ]
}